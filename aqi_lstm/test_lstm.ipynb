{
 "cells": [
  {
   "cell_type": "code",
   "execution_count": 229,
   "metadata": {
    "ExecuteTime": {
     "end_time": "2020-01-10T02:09:39.340476Z",
     "start_time": "2020-01-10T02:09:39.337384Z"
    }
   },
   "outputs": [],
   "source": [
    "import torch\n",
    "from torch import nn\n",
    "from torch import tensor\n",
    "from torch import optim\n",
    "from torch.optim import lr_scheduler\n",
    "import numpy as np\n",
    "import pandas as pd\n",
    "pd.set_option('display.max_columns', None)"
   ]
  },
  {
   "cell_type": "code",
   "execution_count": 8,
   "metadata": {
    "ExecuteTime": {
     "end_time": "2020-01-09T06:08:39.549230Z",
     "start_time": "2020-01-09T06:08:39.203480Z"
    }
   },
   "outputs": [],
   "source": [
    "samples = pd.read_csv('data/aqi_upsample.csv',index_col= 0)"
   ]
  },
  {
   "cell_type": "code",
   "execution_count": 184,
   "metadata": {
    "ExecuteTime": {
     "end_time": "2020-01-09T09:46:29.225235Z",
     "start_time": "2020-01-09T09:46:29.210801Z"
    }
   },
   "outputs": [],
   "source": [
    "torch.random.manual_seed(0)\n",
    "c = torch.nn.LSTMCell(24,1)\n",
    "hx= torch.randn(1,1)\n",
    "cx= torch.randn(1,1)\n",
    "inputs = torch.randn(1,72,24)\n",
    "output = torch.tensor([])\n",
    "with torch.no_grad():\n",
    "    for i in range(len(inputs)):\n",
    "        for j in range(inputs.shape[1]):\n",
    "            x = torch.cat((hx,inputs[i,j,1:].unsqueeze(0)),1)\n",
    "            hx, cx = c(x,(hx,cx))\n",
    "            output = torch.cat((output,hx),1)"
   ]
  },
  {
   "cell_type": "code",
   "execution_count": 185,
   "metadata": {
    "ExecuteTime": {
     "end_time": "2020-01-09T09:46:29.662394Z",
     "start_time": "2020-01-09T09:46:29.658604Z"
    }
   },
   "outputs": [
    {
     "data": {
      "text/plain": [
       "tensor([[-2.9377e-02, -3.2229e-02, -4.2702e-02, -7.8843e-01,  9.6925e-02,\n",
       "          7.9377e-03, -1.0720e-01, -4.3579e-01,  7.4455e-02, -5.7638e-01,\n",
       "          2.5740e-01, -1.2364e-03, -6.2777e-04, -9.3059e-04, -8.6659e-03,\n",
       "          2.8637e-01, -2.0458e-01, -5.5831e-02, -6.2516e-01, -6.8382e-04,\n",
       "         -6.6573e-01, -4.6355e-02, -3.9912e-05, -1.7753e-02, -3.0035e-01,\n",
       "         -3.6432e-02, -4.4465e-01, -3.0688e-03,  3.4832e-02,  1.2146e-02,\n",
       "          2.2520e-01, -1.5194e-04, -1.7131e-01, -7.1980e-02, -5.6197e-02,\n",
       "         -9.7719e-03, -8.0705e-02, -2.0171e-01, -2.0209e-01, -1.0370e-01,\n",
       "         -2.9572e-03, -2.1654e-01, -4.0712e-01, -2.7188e-02, -4.2719e-02,\n",
       "         -1.6726e-01,  1.2039e-02, -2.3589e-04, -1.7912e-03, -2.9666e-02,\n",
       "         -1.1500e-02,  6.9503e-01,  8.3289e-01, -4.0500e-01, -7.0315e-02,\n",
       "          3.1722e-02,  7.0222e-01,  1.3136e-01,  4.8535e-02, -5.1856e-01,\n",
       "         -3.5722e-02,  6.1767e-01, -2.8095e-03, -1.3378e-03, -1.1230e-01,\n",
       "         -1.8689e-01, -3.2741e-02, -6.9582e-01, -1.0930e-01, -3.3258e-03,\n",
       "         -3.5400e-03, -1.5716e-05]])"
      ]
     },
     "execution_count": 185,
     "metadata": {},
     "output_type": "execute_result"
    }
   ],
   "source": [
    "output"
   ]
  },
  {
   "cell_type": "markdown",
   "metadata": {},
   "source": [
    "### 只输入第一个aqi，其他置0"
   ]
  },
  {
   "cell_type": "code",
   "execution_count": 241,
   "metadata": {
    "ExecuteTime": {
     "end_time": "2020-01-10T02:14:58.945958Z",
     "start_time": "2020-01-10T02:14:58.941708Z"
    }
   },
   "outputs": [],
   "source": [
    "class NetWork(nn.Module):\n",
    "    def __init__(self):\n",
    "        super(NetWork,self).__init__()\n",
    "        self.lstm = nn.LSTM(24,10,1)\n",
    "        self.linear = nn.Linear(10,1)\n",
    "        \n",
    "    def forward(self, x):\n",
    "        x,(h_1,c_1) = self.lstm(x)\n",
    "        x = self.linear(x)\n",
    "        return x"
   ]
  },
  {
   "cell_type": "code",
   "execution_count": 242,
   "metadata": {
    "ExecuteTime": {
     "end_time": "2020-01-10T02:14:59.451894Z",
     "start_time": "2020-01-10T02:14:59.444937Z"
    }
   },
   "outputs": [
    {
     "data": {
      "text/plain": [
       "tensor([[[-0.1928],\n",
       "         [-0.1928],\n",
       "         [-0.1928],\n",
       "         [-0.1928],\n",
       "         [-0.1928],\n",
       "         [-0.1928],\n",
       "         [-0.1928],\n",
       "         [-0.1928],\n",
       "         [-0.1928],\n",
       "         [-0.1928],\n",
       "         [-0.1928],\n",
       "         [-0.1928],\n",
       "         [-0.1928],\n",
       "         [-0.1928],\n",
       "         [-0.1928],\n",
       "         [-0.1928],\n",
       "         [-0.1928],\n",
       "         [-0.1928],\n",
       "         [-0.1928],\n",
       "         [-0.1928],\n",
       "         [-0.1928],\n",
       "         [-0.1928],\n",
       "         [-0.1928],\n",
       "         [-0.1928],\n",
       "         [-0.1928],\n",
       "         [-0.1928],\n",
       "         [-0.1928],\n",
       "         [-0.1928],\n",
       "         [-0.1928],\n",
       "         [-0.1928],\n",
       "         [-0.1928],\n",
       "         [-0.1928],\n",
       "         [-0.1928],\n",
       "         [-0.1928],\n",
       "         [-0.1928],\n",
       "         [-0.1928],\n",
       "         [-0.1928],\n",
       "         [-0.1928],\n",
       "         [-0.1928],\n",
       "         [-0.1928],\n",
       "         [-0.1928],\n",
       "         [-0.1928],\n",
       "         [-0.1928],\n",
       "         [-0.1928],\n",
       "         [-0.1928],\n",
       "         [-0.1928],\n",
       "         [-0.1928],\n",
       "         [-0.1928],\n",
       "         [-0.1928],\n",
       "         [-0.1928],\n",
       "         [-0.1928],\n",
       "         [-0.1928],\n",
       "         [-0.1928],\n",
       "         [-0.1928],\n",
       "         [-0.1928],\n",
       "         [-0.1928],\n",
       "         [-0.1928],\n",
       "         [-0.1928],\n",
       "         [-0.1928],\n",
       "         [-0.1928],\n",
       "         [-0.1928],\n",
       "         [-0.1928],\n",
       "         [-0.1928],\n",
       "         [-0.1928],\n",
       "         [-0.1928],\n",
       "         [-0.1928],\n",
       "         [-0.1928],\n",
       "         [-0.1928],\n",
       "         [-0.1928],\n",
       "         [-0.1928],\n",
       "         [-0.1928],\n",
       "         [-0.1928]]], grad_fn=<AddBackward0>)"
      ]
     },
     "execution_count": 242,
     "metadata": {},
     "output_type": "execute_result"
    }
   ],
   "source": [
    "net = NetWork()\n",
    "x = torch.from_numpy(samples.head(72).values).float()\n",
    "net(x.unsqueeze(0))"
   ]
  },
  {
   "cell_type": "markdown",
   "metadata": {},
   "source": [
    "### 每个输出拿出来重新进模型"
   ]
  },
  {
   "cell_type": "code",
   "execution_count": 225,
   "metadata": {
    "ExecuteTime": {
     "end_time": "2020-01-10T02:08:31.280831Z",
     "start_time": "2020-01-10T02:08:31.274857Z"
    }
   },
   "outputs": [],
   "source": [
    "class NetWork(nn.Module):\n",
    "    def __init__(self):\n",
    "        super(NetWork,self).__init__()\n",
    "        self.lstm = nn.LSTM(24,10,1)\n",
    "        self.linear = nn.Linear(10,1)\n",
    "        \n",
    "    def forward(self, x, aqi):\n",
    "        output = torch.tensor([aqi])\n",
    "        for i in range(72):\n",
    "            x_MeteFactor = torch.tensor(x[i, 1:])\n",
    "            x_MeteFactor = x_MeteFactor.float()\n",
    "            x_Onetime = torch.cat((output[-1].unsqueeze(0),x_MeteFactor)).unsqueeze(0)\n",
    "            o, (_1, _2) = self.lstm(x_Onetime)\n",
    "            o = self.linear(o)\n",
    "            output = torch.cat((output,o[0].data),0)"
   ]
  },
  {
   "cell_type": "code",
   "execution_count": null,
   "metadata": {},
   "outputs": [],
   "source": []
  },
  {
   "cell_type": "code",
   "execution_count": null,
   "metadata": {},
   "outputs": [],
   "source": []
  },
  {
   "cell_type": "code",
   "execution_count": null,
   "metadata": {},
   "outputs": [],
   "source": []
  },
  {
   "cell_type": "code",
   "execution_count": null,
   "metadata": {},
   "outputs": [],
   "source": []
  },
  {
   "cell_type": "code",
   "execution_count": null,
   "metadata": {},
   "outputs": [],
   "source": []
  },
  {
   "cell_type": "code",
   "execution_count": null,
   "metadata": {},
   "outputs": [],
   "source": []
  },
  {
   "cell_type": "code",
   "execution_count": null,
   "metadata": {},
   "outputs": [],
   "source": []
  },
  {
   "cell_type": "code",
   "execution_count": 213,
   "metadata": {
    "ExecuteTime": {
     "end_time": "2020-01-09T09:57:18.590188Z",
     "start_time": "2020-01-09T09:57:18.587155Z"
    }
   },
   "outputs": [],
   "source": [
    "rnn = nn.LSTM(24,10,1)\n",
    "lnn = nn.Linear(10,1)\n",
    "\n",
    "output = torch.tensor([samples.iloc[0,0]])\n",
    "for i in range(72):\n",
    "    x_MeteFactor = torch.tensor(samples.iloc[i,1:].values)\n",
    "    x_MeteFactor = x_MeteFactor.float()\n",
    "    x_Onetime = torch.cat((output[-1].unsqueeze(0),x_MeteFactor)).unsqueeze(0).unsqueeze(0)\n",
    "    o, (_1, _2) = rnn(x_Onetime)\n",
    "    o = lnn(o)\n",
    "    output = torch.cat((output,o[0,0].data),0)"
   ]
  },
  {
   "cell_type": "code",
   "execution_count": 28,
   "metadata": {
    "ExecuteTime": {
     "end_time": "2020-01-09T06:58:21.680403Z",
     "start_time": "2020-01-09T06:58:21.656999Z"
    }
   },
   "outputs": [
    {
     "data": {
      "text/html": [
       "<div>\n",
       "<style scoped>\n",
       "    .dataframe tbody tr th:only-of-type {\n",
       "        vertical-align: middle;\n",
       "    }\n",
       "\n",
       "    .dataframe tbody tr th {\n",
       "        vertical-align: top;\n",
       "    }\n",
       "\n",
       "    .dataframe thead th {\n",
       "        text-align: right;\n",
       "    }\n",
       "</style>\n",
       "<table border=\"1\" class=\"dataframe\">\n",
       "  <thead>\n",
       "    <tr style=\"text-align: right;\">\n",
       "      <th></th>\n",
       "      <th>aqi</th>\n",
       "      <th>tmp</th>\n",
       "      <th>v850</th>\n",
       "      <th>t925</th>\n",
       "      <th>p</th>\n",
       "      <th>t750</th>\n",
       "      <th>v750</th>\n",
       "      <th>v500</th>\n",
       "      <th>u850</th>\n",
       "      <th>u925</th>\n",
       "      <th>u750</th>\n",
       "      <th>u</th>\n",
       "      <th>t500</th>\n",
       "      <th>v</th>\n",
       "      <th>v925</th>\n",
       "      <th>t995</th>\n",
       "      <th>rh</th>\n",
       "      <th>u500</th>\n",
       "      <th>t850</th>\n",
       "      <th>season_fall</th>\n",
       "      <th>season_spring</th>\n",
       "      <th>season_summer</th>\n",
       "      <th>season_winter</th>\n",
       "      <th>t_diff</th>\n",
       "    </tr>\n",
       "    <tr>\n",
       "      <th>datetime</th>\n",
       "      <th></th>\n",
       "      <th></th>\n",
       "      <th></th>\n",
       "      <th></th>\n",
       "      <th></th>\n",
       "      <th></th>\n",
       "      <th></th>\n",
       "      <th></th>\n",
       "      <th></th>\n",
       "      <th></th>\n",
       "      <th></th>\n",
       "      <th></th>\n",
       "      <th></th>\n",
       "      <th></th>\n",
       "      <th></th>\n",
       "      <th></th>\n",
       "      <th></th>\n",
       "      <th></th>\n",
       "      <th></th>\n",
       "      <th></th>\n",
       "      <th></th>\n",
       "      <th></th>\n",
       "      <th></th>\n",
       "      <th></th>\n",
       "    </tr>\n",
       "  </thead>\n",
       "  <tbody>\n",
       "    <tr>\n",
       "      <th>2016-06-01 02:00:00</th>\n",
       "      <td>67.00</td>\n",
       "      <td>16.65</td>\n",
       "      <td>-6.07</td>\n",
       "      <td>4.55</td>\n",
       "      <td>100807.00</td>\n",
       "      <td>-11.25</td>\n",
       "      <td>-7.50</td>\n",
       "      <td>-9.90</td>\n",
       "      <td>4.54</td>\n",
       "      <td>1.25</td>\n",
       "      <td>5.75</td>\n",
       "      <td>-0.84</td>\n",
       "      <td>-44.65</td>\n",
       "      <td>1.06</td>\n",
       "      <td>-4.46</td>\n",
       "      <td>20.02</td>\n",
       "      <td>42.30</td>\n",
       "      <td>34.50</td>\n",
       "      <td>-3.55</td>\n",
       "      <td>0.0</td>\n",
       "      <td>0.0</td>\n",
       "      <td>1.0</td>\n",
       "      <td>0.0</td>\n",
       "      <td>-3.37</td>\n",
       "    </tr>\n",
       "    <tr>\n",
       "      <th>2016-06-01 03:00:00</th>\n",
       "      <td>66.67</td>\n",
       "      <td>16.15</td>\n",
       "      <td>-6.43</td>\n",
       "      <td>4.48</td>\n",
       "      <td>100816.67</td>\n",
       "      <td>-11.15</td>\n",
       "      <td>-7.75</td>\n",
       "      <td>-13.23</td>\n",
       "      <td>4.08</td>\n",
       "      <td>1.24</td>\n",
       "      <td>5.33</td>\n",
       "      <td>-0.65</td>\n",
       "      <td>-44.68</td>\n",
       "      <td>0.42</td>\n",
       "      <td>-4.38</td>\n",
       "      <td>20.02</td>\n",
       "      <td>42.73</td>\n",
       "      <td>35.60</td>\n",
       "      <td>-3.45</td>\n",
       "      <td>0.0</td>\n",
       "      <td>0.0</td>\n",
       "      <td>1.0</td>\n",
       "      <td>0.0</td>\n",
       "      <td>-3.87</td>\n",
       "    </tr>\n",
       "    <tr>\n",
       "      <th>2016-06-01 04:00:00</th>\n",
       "      <td>66.33</td>\n",
       "      <td>15.65</td>\n",
       "      <td>-6.79</td>\n",
       "      <td>4.42</td>\n",
       "      <td>100826.33</td>\n",
       "      <td>-11.05</td>\n",
       "      <td>-7.99</td>\n",
       "      <td>-16.57</td>\n",
       "      <td>3.63</td>\n",
       "      <td>1.23</td>\n",
       "      <td>4.91</td>\n",
       "      <td>-0.45</td>\n",
       "      <td>-44.72</td>\n",
       "      <td>-0.21</td>\n",
       "      <td>-4.31</td>\n",
       "      <td>20.02</td>\n",
       "      <td>43.17</td>\n",
       "      <td>36.70</td>\n",
       "      <td>-3.35</td>\n",
       "      <td>0.0</td>\n",
       "      <td>0.0</td>\n",
       "      <td>1.0</td>\n",
       "      <td>0.0</td>\n",
       "      <td>-4.37</td>\n",
       "    </tr>\n",
       "    <tr>\n",
       "      <th>2016-06-01 05:00:00</th>\n",
       "      <td>66.00</td>\n",
       "      <td>15.15</td>\n",
       "      <td>-7.15</td>\n",
       "      <td>4.35</td>\n",
       "      <td>100836.00</td>\n",
       "      <td>-10.95</td>\n",
       "      <td>-8.24</td>\n",
       "      <td>-19.90</td>\n",
       "      <td>3.17</td>\n",
       "      <td>1.22</td>\n",
       "      <td>4.49</td>\n",
       "      <td>-0.26</td>\n",
       "      <td>-44.75</td>\n",
       "      <td>-0.85</td>\n",
       "      <td>-4.23</td>\n",
       "      <td>20.02</td>\n",
       "      <td>43.60</td>\n",
       "      <td>37.80</td>\n",
       "      <td>-3.25</td>\n",
       "      <td>0.0</td>\n",
       "      <td>0.0</td>\n",
       "      <td>1.0</td>\n",
       "      <td>0.0</td>\n",
       "      <td>-4.87</td>\n",
       "    </tr>\n",
       "    <tr>\n",
       "      <th>2016-06-01 06:00:00</th>\n",
       "      <td>71.67</td>\n",
       "      <td>18.08</td>\n",
       "      <td>-7.05</td>\n",
       "      <td>4.32</td>\n",
       "      <td>100858.00</td>\n",
       "      <td>-10.78</td>\n",
       "      <td>-8.74</td>\n",
       "      <td>-21.34</td>\n",
       "      <td>1.85</td>\n",
       "      <td>0.92</td>\n",
       "      <td>3.60</td>\n",
       "      <td>-0.25</td>\n",
       "      <td>-44.48</td>\n",
       "      <td>-1.05</td>\n",
       "      <td>-4.53</td>\n",
       "      <td>20.82</td>\n",
       "      <td>39.13</td>\n",
       "      <td>40.27</td>\n",
       "      <td>-3.02</td>\n",
       "      <td>0.0</td>\n",
       "      <td>0.0</td>\n",
       "      <td>1.0</td>\n",
       "      <td>0.0</td>\n",
       "      <td>-2.73</td>\n",
       "    </tr>\n",
       "  </tbody>\n",
       "</table>\n",
       "</div>"
      ],
      "text/plain": [
       "                       aqi    tmp  v850  t925          p   t750  v750   v500  \\\n",
       "datetime                                                                       \n",
       "2016-06-01 02:00:00  67.00  16.65 -6.07  4.55  100807.00 -11.25 -7.50  -9.90   \n",
       "2016-06-01 03:00:00  66.67  16.15 -6.43  4.48  100816.67 -11.15 -7.75 -13.23   \n",
       "2016-06-01 04:00:00  66.33  15.65 -6.79  4.42  100826.33 -11.05 -7.99 -16.57   \n",
       "2016-06-01 05:00:00  66.00  15.15 -7.15  4.35  100836.00 -10.95 -8.24 -19.90   \n",
       "2016-06-01 06:00:00  71.67  18.08 -7.05  4.32  100858.00 -10.78 -8.74 -21.34   \n",
       "\n",
       "                     u850  u925  u750     u   t500     v  v925   t995     rh  \\\n",
       "datetime                                                                       \n",
       "2016-06-01 02:00:00  4.54  1.25  5.75 -0.84 -44.65  1.06 -4.46  20.02  42.30   \n",
       "2016-06-01 03:00:00  4.08  1.24  5.33 -0.65 -44.68  0.42 -4.38  20.02  42.73   \n",
       "2016-06-01 04:00:00  3.63  1.23  4.91 -0.45 -44.72 -0.21 -4.31  20.02  43.17   \n",
       "2016-06-01 05:00:00  3.17  1.22  4.49 -0.26 -44.75 -0.85 -4.23  20.02  43.60   \n",
       "2016-06-01 06:00:00  1.85  0.92  3.60 -0.25 -44.48 -1.05 -4.53  20.82  39.13   \n",
       "\n",
       "                      u500  t850  season_fall  season_spring  season_summer  \\\n",
       "datetime                                                                      \n",
       "2016-06-01 02:00:00  34.50 -3.55          0.0            0.0            1.0   \n",
       "2016-06-01 03:00:00  35.60 -3.45          0.0            0.0            1.0   \n",
       "2016-06-01 04:00:00  36.70 -3.35          0.0            0.0            1.0   \n",
       "2016-06-01 05:00:00  37.80 -3.25          0.0            0.0            1.0   \n",
       "2016-06-01 06:00:00  40.27 -3.02          0.0            0.0            1.0   \n",
       "\n",
       "                     season_winter  t_diff  \n",
       "datetime                                    \n",
       "2016-06-01 02:00:00            0.0   -3.37  \n",
       "2016-06-01 03:00:00            0.0   -3.87  \n",
       "2016-06-01 04:00:00            0.0   -4.37  \n",
       "2016-06-01 05:00:00            0.0   -4.87  \n",
       "2016-06-01 06:00:00            0.0   -2.73  "
      ]
     },
     "execution_count": 28,
     "metadata": {},
     "output_type": "execute_result"
    }
   ],
   "source": [
    "samples.head()"
   ]
  },
  {
   "cell_type": "code",
   "execution_count": 217,
   "metadata": {
    "ExecuteTime": {
     "end_time": "2020-01-10T01:51:49.285857Z",
     "start_time": "2020-01-10T01:51:49.231574Z"
    }
   },
   "outputs": [],
   "source": [
    "rnn = nn.LSTM(24,10,1)\n",
    "lnn = nn.Linear(10,1)\n",
    "\n",
    "output = torch.tensor([samples.iloc[0,0]])\n",
    "for i in range(72):\n",
    "    x_MeteFactor = torch.tensor(samples.iloc[i,1:].values)\n",
    "    x_MeteFactor = x_MeteFactor.float()\n",
    "    x_Onetime = torch.cat((output[-1].unsqueeze(0),x_MeteFactor)).unsqueeze(0).unsqueeze(0)\n",
    "    o, (_1, _2) = rnn(x_Onetime)\n",
    "    o = lnn(o)\n",
    "    output = torch.cat((output,o[0,0].data),0)"
   ]
  },
  {
   "cell_type": "code",
   "execution_count": 218,
   "metadata": {
    "ExecuteTime": {
     "end_time": "2020-01-10T01:51:53.162395Z",
     "start_time": "2020-01-10T01:51:53.158006Z"
    }
   },
   "outputs": [
    {
     "data": {
      "text/plain": [
       "tensor([67.0000, -0.3473, -0.3473, -0.3473, -0.3473, -0.3473, -0.3473, -0.3473,\n",
       "        -0.3473, -0.3473, -0.3473, -0.3473, -0.3473, -0.3473, -0.3473, -0.3473,\n",
       "        -0.3473, -0.3473, -0.3473, -0.3473, -0.3473, -0.3473, -0.3473, -0.3473,\n",
       "        -0.3473, -0.3473, -0.3473, -0.3473, -0.3473, -0.3473, -0.3473, -0.3473,\n",
       "        -0.3473, -0.3473, -0.3473, -0.3473, -0.3473, -0.3473, -0.3473, -0.3473,\n",
       "        -0.3473, -0.3473, -0.3473, -0.3473, -0.3473, -0.3473, -0.3473, -0.3473,\n",
       "        -0.3473, -0.3473, -0.3473, -0.3473, -0.3473, -0.3473, -0.3473, -0.3473,\n",
       "        -0.3473, -0.3473, -0.3473, -0.3473, -0.3473, -0.3473, -0.3473, -0.3473,\n",
       "        -0.3473, -0.3473, -0.3473, -0.3473, -0.3473, -0.3473, -0.3473, -0.3473,\n",
       "        -0.3473])"
      ]
     },
     "execution_count": 218,
     "metadata": {},
     "output_type": "execute_result"
    }
   ],
   "source": [
    "output"
   ]
  },
  {
   "cell_type": "code",
   "execution_count": 213,
   "metadata": {
    "ExecuteTime": {
     "end_time": "2020-01-09T09:57:18.590188Z",
     "start_time": "2020-01-09T09:57:18.587155Z"
    }
   },
   "outputs": [],
   "source": [
    "rnn = nn.LSTM(24,10,1)\n",
    "lnn = nn.Linear(10,1)\n",
    "\n",
    "output = torch.tensor([samples.iloc[0,0]])\n",
    "for i in range(72):\n",
    "    x_MeteFactor = torch.tensor(samples.iloc[i,1:].values)\n",
    "    x_MeteFactor = x_MeteFactor.float()\n",
    "    x_Onetime = torch.cat((output[-1].unsqueeze(0),x_MeteFactor)).unsqueeze(0).unsqueeze(0)\n",
    "    o, (_1, _2) = rnn(x_Onetime)\n",
    "    o = lnn(o)\n",
    "    output = torch.cat((output,o[0,0].data),0)"
   ]
  }
 ],
 "metadata": {
  "kernelspec": {
   "display_name": "torch-1.3.1",
   "language": "python",
   "name": "torch-1.3.1"
  },
  "language_info": {
   "codemirror_mode": {
    "name": "ipython",
    "version": 3
   },
   "file_extension": ".py",
   "mimetype": "text/x-python",
   "name": "python",
   "nbconvert_exporter": "python",
   "pygments_lexer": "ipython3",
   "version": "3.7.3"
  }
 },
 "nbformat": 4,
 "nbformat_minor": 2
}
