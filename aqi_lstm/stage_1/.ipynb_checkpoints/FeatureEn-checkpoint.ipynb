{
 "cells": [
  {
   "cell_type": "code",
   "execution_count": null,
   "metadata": {
    "ExecuteTime": {
     "end_time": "2020-01-09T02:12:40.832717Z",
     "start_time": "2020-01-09T02:12:40.830047Z"
    }
   },
   "outputs": [],
   "source": [
    "import numpy as np\n",
    "import pandas as pd\n",
    "pd.set_option('display.max_columns', None)"
   ]
  },
  {
   "cell_type": "code",
   "execution_count": null,
   "metadata": {
    "ExecuteTime": {
     "end_time": "2020-01-16T06:21:35.868150Z",
     "start_time": "2020-01-16T06:21:35.830619Z"
    }
   },
   "outputs": [],
   "source": [
    "#读取数据\n",
    "data_aqi = pd.read_csv('data/aqi_all.csv',index_col= 0)\n",
    "data_aqi.index = pd.to_datetime(data_aqi.index)\n",
    "#编辑column\n",
    "data_aqi = data_aqi[['aqi','season','tmp', 'v850', 't925', 'p', 't750', 'v750',\n",
    "       'v500', 'u850', 'u925', 'u750', 'u', 't500', 'v', 'v925', 't995', 'rh',\n",
    "       'u500', 't850']]\n",
    "#删除nan\n",
    "data_aqi.dropna(axis= 0, how= 'any', inplace= True)\n",
    "#特征onehot处理\n",
    "data_aqi = pd.get_dummies(data_aqi)\n",
    "data_aqi['t_diff'] = data_aqi['tmp'] - data_aqi['t995'] \n",
    "#重采样至每小时，线性插值，取两位小数\n",
    "data_aqi = data_aqi.resample('H').asfreq()\n",
    "data_aqi = data_aqi.interpolate()\n",
    "data_aqi = data_aqi.round(2)"
   ]
  },
  {
   "cell_type": "code",
   "execution_count": null,
   "metadata": {
    "ExecuteTime": {
     "end_time": "2020-01-09T03:22:11.018431Z",
     "start_time": "2020-01-09T03:22:10.353550Z"
    }
   },
   "outputs": [],
   "source": [
    "data_aqi.to_csv('data/aqi_upsample.csv')"
   ]
  },
  {
   "cell_type": "code",
   "execution_count": null,
   "metadata": {},
   "outputs": [],
   "source": []
  }
 ],
 "metadata": {
  "kernelspec": {
   "display_name": "Python 3",
   "language": "python",
   "name": "python3"
  },
  "language_info": {
   "codemirror_mode": {
    "name": "ipython",
    "version": 3
   },
   "file_extension": ".py",
   "mimetype": "text/x-python",
   "name": "python",
   "nbconvert_exporter": "python",
   "pygments_lexer": "ipython3",
   "version": "3.7.3"
  }
 },
 "nbformat": 4,
 "nbformat_minor": 2
}
