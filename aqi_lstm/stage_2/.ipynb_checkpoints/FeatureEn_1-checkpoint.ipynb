{
 "cells": [
  {
   "cell_type": "code",
   "execution_count": 3,
   "metadata": {
    "ExecuteTime": {
     "end_time": "2020-01-16T05:47:31.953457Z",
     "start_time": "2020-01-16T05:47:31.563468Z"
    }
   },
   "outputs": [],
   "source": [
    "import numpy as np\n",
    "import pandas as pd\n",
    "pd.set_option('display.max_columns', None)\n",
    "pd.options.mode.chained_assignment = None"
   ]
  },
  {
   "cell_type": "code",
   "execution_count": 22,
   "metadata": {
    "ExecuteTime": {
     "end_time": "2020-01-16T06:12:54.870982Z",
     "start_time": "2020-01-16T06:12:54.860846Z"
    }
   },
   "outputs": [],
   "source": [
    "def preprocessX(df,mode=\"train\"):\n",
    "    if mode==\"train\":\n",
    "        df = df[\"20160531230000\":]  # aqi数据从2016年6月1号开始，气象数据需要以此作为起点\n",
    "\n",
    "    # 风矢量长度\n",
    "    for level in [\"\", \"925\", \"850\", \"750\", \"500\"]:\n",
    "        df[\"ws\" + level] = np.sqrt(df[\"u\" + level] ** 2 + df[\"v\" + level] ** 2)\n",
    "\n",
    "    # 升采样为1小时间隔\n",
    "    df = df.resample(\"H\").asfreq().interpolate()\n",
    "\n",
    "    # 不同层温差作为直接特征\n",
    "    levels = [\"995\", \"925\", \"850\", \"750\", \"500\"]\n",
    "    for i, _ in enumerate(levels):\n",
    "        df[\"dt\" + levels[i]] = df[\"tmp\"] - df[\"t\" + levels[i]]\n",
    "        if not levels[i] == \"500\":\n",
    "            df[\"dt\" + levels[i] + \"_\" + levels[i + 1]] = df[\"t\" + levels[i]] - df[\"t\" + levels[i + 1]]\n",
    "\n",
    "    #时间特征\n",
    "    t_year = np.cos( df.index.month * np.pi/6)\n",
    "    df[\"t_year\"]=t_year\n",
    "\n",
    "    # df[\"workday\"]=(df.index.weekday<=3)*1\n",
    "    # df[\"weekend\"]=(df.index.weekday>=4)*1\n",
    "\n",
    "    # 风向特征\n",
    "    wd=np.arctan2(df[\"u\"],df[\"v\"])/np.pi*180\n",
    "    wd=((wd+180)/45).round()\n",
    "    wd=wd.astype(np.uint8)\n",
    "    wd=wd.replace({8:0})\n",
    "    dummies=pd.get_dummies(wd,prefix=\"wd\")\n",
    "    dummies_columns=[\"wd_\" + str(i) for i in range(8)]\n",
    "    for c in dummies_columns:\n",
    "        if c not in dummies.columns:\n",
    "            dummies[c] = 0\n",
    "    dummies=dummies.reindex(columns=dummies_columns)\n",
    "    df=pd.concat([df,dummies],axis=1)\n",
    "    \n",
    "    #气压/10000\n",
    "    df['p'] = df['p']/10000\n",
    "    return df\n",
    "\n",
    "\n",
    "def preprocessY(df,mode=\"train\"):\n",
    "    df.replace(0, np.nan, inplace=True)\n",
    "    df = df.resample(\"H\").asfreq().interpolate()\n",
    "    df = np.log1p(df)  # aqi数据偏度较大，取对数使数据分布接近正态分布\n",
    "    return df\n"
   ]
  },
  {
   "cell_type": "code",
   "execution_count": 25,
   "metadata": {
    "ExecuteTime": {
     "end_time": "2020-01-16T06:13:33.650288Z",
     "start_time": "2020-01-16T06:13:31.582364Z"
    }
   },
   "outputs": [],
   "source": [
    "if __name__ == '__main__':\n",
    "    df = pd.read_csv('../aqi_pre/aqi/aqi_all.csv',index_col= 0)\n",
    "    df = df[['aqi','tmp', 'v850', 't925', 'p', 't750', 'v750', 'v500', 'u850',\n",
    "             'u925', 'u750', 'u', 't500', 'v', 'v925', 't995', 'rh', 'u500', 't850']]\n",
    "    df.index = pd.to_datetime(df.index)\n",
    "    df = preprocessX(df)\n",
    "#     df = preprocessY(df)\n",
    "    df.to_csv('data/aqi_upsample_1.csv')"
   ]
  },
  {
   "cell_type": "code",
   "execution_count": null,
   "metadata": {},
   "outputs": [],
   "source": []
  },
  {
   "cell_type": "code",
   "execution_count": null,
   "metadata": {},
   "outputs": [],
   "source": []
  },
  {
   "cell_type": "code",
   "execution_count": null,
   "metadata": {},
   "outputs": [],
   "source": []
  }
 ],
 "metadata": {
  "kernelspec": {
   "display_name": "Python 3",
   "language": "python",
   "name": "python3"
  },
  "language_info": {
   "codemirror_mode": {
    "name": "ipython",
    "version": 3
   },
   "file_extension": ".py",
   "mimetype": "text/x-python",
   "name": "python",
   "nbconvert_exporter": "python",
   "pygments_lexer": "ipython3",
   "version": "3.7.3"
  }
 },
 "nbformat": 4,
 "nbformat_minor": 2
}
