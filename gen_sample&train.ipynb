{
 "cells": [
  {
   "cell_type": "code",
   "execution_count": 1,
   "metadata": {},
   "outputs": [],
   "source": [
    "import numpy as np\n",
    "import xgboost as xgb\n",
    "# from xgboost.sklearn import XGBClassifier\n",
    "from xgboost.sklearn import XGBRegressor\n",
    "from sklearn import metrics\n",
    "from sklearn.model_selection import GridSearchCV,train_test_split\n",
    "from sklearn.externals import joblib\n",
    "import pandas as pd\n",
    "pd.set_option('display.max_columns', None)\n",
    "np.set_printoptions(suppress= True)"
   ]
  },
  {
   "cell_type": "markdown",
   "metadata": {},
   "source": [
    "## 生成样本"
   ]
  },
  {
   "cell_type": "code",
   "execution_count": 196,
   "metadata": {},
   "outputs": [],
   "source": [
    "#读取数据\n",
    "data_aqi = pd.read_csv('aqi/aqi_all.csv',index_col= 0)\n",
    "data_aqi.index = pd.to_datetime(data_aqi.index)\n",
    "#上时刻数据与此刻数据concat\n",
    "sample_thistime = data_aqi.iloc[1:,:].copy().reset_index()\n",
    "sample_lasttime = data_aqi.iloc[:-1,:].copy().reset_index()\n",
    "sample = pd.concat((sample_thistime,sample_lasttime),axis= 1)\n",
    "#编辑column\n",
    "sample = sample[['aqi','season','tmp', 'v850', 't925', 'p', 't750', 'v750',\n",
    "       'v500', 'u850', 'u925', 'u750', 'u', 't500', 'v', 'v925', 't995', 'rh',\n",
    "       'u500', 't850']]\n",
    "sample.columns = ['aqi'] + [sample.columns[i] if sample.columns[i] != sample.columns[i-1] else sample.columns[i]+ '_last' for i in range(1,len(sample.columns))]\n",
    "#删除重复列\n",
    "sample.drop('season_last', axis= 1, inplace= True)\n",
    "#删除nan\n",
    "sample.dropna(axis= 0, how= 'any', inplace= True)\n",
    "#特征处理\n",
    "sample = pd.get_dummies(sample)\n",
    "#保存文件\n",
    "sample.to_csv('aqi/sample.csv', index= None)"
   ]
  },
  {
   "cell_type": "markdown",
   "metadata": {},
   "source": [
    "## 读取数据"
   ]
  },
  {
   "cell_type": "code",
   "execution_count": 2,
   "metadata": {},
   "outputs": [],
   "source": [
    "#读取数据\n",
    "sample = pd.read_csv('aqi/sample.csv').values\n",
    "\n",
    "#split train/test\n",
    "x_train,x_test,y_train,y_test = train_test_split(sample[:,1:], sample[:,0], test_size = 0.25, random_state = 10)"
   ]
  },
  {
   "cell_type": "markdown",
   "metadata": {},
   "source": [
    "## 调参"
   ]
  },
  {
   "cell_type": "code",
   "execution_count": 218,
   "metadata": {},
   "outputs": [
    {
     "data": {
      "text/plain": [
       "({'mean_fit_time': array([ 5.19498356,  9.11441859, 12.21111115, 15.32958007, 22.00042748,\n",
       "         10.21549217, 10.7855169 , 13.36529311, 17.65364321, 23.63785934,\n",
       "          8.79640094, 12.66250348, 17.13913488, 19.82608438, 24.29010876,\n",
       "          8.68483432, 14.10742005, 16.63515854, 18.79949474, 22.46256256,\n",
       "          7.70014032, 16.36710103, 20.17474262, 20.75597978, 22.65368096,\n",
       "          7.62184215, 11.20445999, 15.5310533 , 19.62073445, 20.25063642]),\n",
       "  'mean_score_time': array([0.01664162, 0.01750859, 0.01933718, 0.02301423, 0.03767435,\n",
       "         0.01814858, 0.02064029, 0.01965014, 0.02959641, 0.03433077,\n",
       "         0.01966333, 0.02083119, 0.02633794, 0.02896388, 0.04008953,\n",
       "         0.02460853, 0.04081949, 0.02526561, 0.02726007, 0.02928336,\n",
       "         0.02200762, 0.03963629, 0.04557546, 0.02530638, 0.03099759,\n",
       "         0.01997987, 0.01884659, 0.02564065, 0.03130023, 0.04008516]),\n",
       "  'mean_test_score': array([-1224.62011926, -1223.72144525, -1226.85869829, -1229.86069788,\n",
       "         -1232.57917203, -1246.84901258, -1255.468805  , -1262.15213437,\n",
       "         -1265.51392717, -1265.7751727 , -1256.21450947, -1265.37243978,\n",
       "         -1275.95896505, -1282.24676243, -1287.76195635, -1293.51736883,\n",
       "         -1306.40575897, -1313.78147448, -1319.56019516, -1328.54448076,\n",
       "         -1298.26432907, -1310.14576921, -1321.88818178, -1329.11253067,\n",
       "         -1332.70041536, -1333.92391807, -1349.36807024, -1358.77485102,\n",
       "         -1366.44339798, -1370.81028322]),\n",
       "  'mean_train_score': array([-656.09089135, -544.82775928, -460.65048331, -397.62635932,\n",
       "         -347.94020725, -457.56411358, -343.26406333, -265.92611012,\n",
       "         -212.65473607, -170.36165972, -339.81841959, -228.10462479,\n",
       "         -158.75408968, -113.55591277,  -82.28766632, -262.20101954,\n",
       "         -162.27956816, -106.45199171,  -70.92886602,  -47.85835429,\n",
       "         -191.91829052, -103.10242118,  -58.65562166,  -37.7274469 ,\n",
       "          -23.53491067, -146.03616838,  -69.6891019 ,  -38.37147695,\n",
       "          -20.81531134,  -12.37156393]),\n",
       "  'param_learning_rate': masked_array(data=[0.05, 0.05, 0.05, 0.05, 0.05, 0.1, 0.1, 0.1, 0.1, 0.1,\n",
       "                     0.15000000000000002, 0.15000000000000002,\n",
       "                     0.15000000000000002, 0.15000000000000002,\n",
       "                     0.15000000000000002, 0.2, 0.2, 0.2, 0.2, 0.2, 0.25,\n",
       "                     0.25, 0.25, 0.25, 0.25, 0.3, 0.3, 0.3, 0.3, 0.3],\n",
       "               mask=[False, False, False, False, False, False, False, False,\n",
       "                     False, False, False, False, False, False, False, False,\n",
       "                     False, False, False, False, False, False, False, False,\n",
       "                     False, False, False, False, False, False],\n",
       "         fill_value='?',\n",
       "              dtype=object),\n",
       "  'param_n_estimators': masked_array(data=[100, 150, 200, 250, 300, 100, 150, 200, 250, 300, 100,\n",
       "                     150, 200, 250, 300, 100, 150, 200, 250, 300, 100, 150,\n",
       "                     200, 250, 300, 100, 150, 200, 250, 300],\n",
       "               mask=[False, False, False, False, False, False, False, False,\n",
       "                     False, False, False, False, False, False, False, False,\n",
       "                     False, False, False, False, False, False, False, False,\n",
       "                     False, False, False, False, False, False],\n",
       "         fill_value='?',\n",
       "              dtype=object),\n",
       "  'params': [{'learning_rate': 0.05, 'n_estimators': 100},\n",
       "   {'learning_rate': 0.05, 'n_estimators': 150},\n",
       "   {'learning_rate': 0.05, 'n_estimators': 200},\n",
       "   {'learning_rate': 0.05, 'n_estimators': 250},\n",
       "   {'learning_rate': 0.05, 'n_estimators': 300},\n",
       "   {'learning_rate': 0.1, 'n_estimators': 100},\n",
       "   {'learning_rate': 0.1, 'n_estimators': 150},\n",
       "   {'learning_rate': 0.1, 'n_estimators': 200},\n",
       "   {'learning_rate': 0.1, 'n_estimators': 250},\n",
       "   {'learning_rate': 0.1, 'n_estimators': 300},\n",
       "   {'learning_rate': 0.15000000000000002, 'n_estimators': 100},\n",
       "   {'learning_rate': 0.15000000000000002, 'n_estimators': 150},\n",
       "   {'learning_rate': 0.15000000000000002, 'n_estimators': 200},\n",
       "   {'learning_rate': 0.15000000000000002, 'n_estimators': 250},\n",
       "   {'learning_rate': 0.15000000000000002, 'n_estimators': 300},\n",
       "   {'learning_rate': 0.2, 'n_estimators': 100},\n",
       "   {'learning_rate': 0.2, 'n_estimators': 150},\n",
       "   {'learning_rate': 0.2, 'n_estimators': 200},\n",
       "   {'learning_rate': 0.2, 'n_estimators': 250},\n",
       "   {'learning_rate': 0.2, 'n_estimators': 300},\n",
       "   {'learning_rate': 0.25, 'n_estimators': 100},\n",
       "   {'learning_rate': 0.25, 'n_estimators': 150},\n",
       "   {'learning_rate': 0.25, 'n_estimators': 200},\n",
       "   {'learning_rate': 0.25, 'n_estimators': 250},\n",
       "   {'learning_rate': 0.25, 'n_estimators': 300},\n",
       "   {'learning_rate': 0.3, 'n_estimators': 100},\n",
       "   {'learning_rate': 0.3, 'n_estimators': 150},\n",
       "   {'learning_rate': 0.3, 'n_estimators': 200},\n",
       "   {'learning_rate': 0.3, 'n_estimators': 250},\n",
       "   {'learning_rate': 0.3, 'n_estimators': 300}],\n",
       "  'rank_test_score': array([ 2,  1,  3,  4,  5,  6,  7,  9, 11, 12,  8, 10, 13, 14, 15, 16, 18,\n",
       "         20, 21, 23, 17, 19, 22, 24, 25, 26, 27, 28, 29, 30]),\n",
       "  'split0_test_score': array([-1159.43436142, -1167.07831685, -1172.12250081, -1179.05354015,\n",
       "         -1181.85943447, -1200.91033174, -1206.88654975, -1216.65435258,\n",
       "         -1221.05738954, -1222.69853693, -1204.4724889 , -1223.91842371,\n",
       "         -1231.6949837 , -1236.0215145 , -1241.25877353, -1215.2670914 ,\n",
       "         -1237.30614475, -1246.71462034, -1254.53510832, -1259.90404043,\n",
       "         -1275.25212748, -1283.57488538, -1290.32515281, -1296.16582957,\n",
       "         -1299.17669266, -1287.91391659, -1296.08489822, -1306.67277498,\n",
       "         -1314.62947539, -1317.78552344]),\n",
       "  'split0_train_score': array([-667.28544698, -549.72817306, -460.08594268, -386.93032446,\n",
       "         -327.19182554, -438.10237276, -321.50558059, -245.91055332,\n",
       "         -190.98387508, -150.8741756 , -312.39371859, -200.96524205,\n",
       "         -137.61921155,  -94.37828902,  -65.44158177, -237.28131859,\n",
       "         -144.78475087,  -89.65192821,  -58.53750699,  -38.75904423,\n",
       "         -186.25594391, -100.09012377,  -53.44290331,  -35.31796867,\n",
       "          -22.30361435, -130.72703494,  -60.56064897,  -27.91324324,\n",
       "          -12.77181228,   -6.40618394]),\n",
       "  'split1_test_score': array([-1134.22185695, -1124.60573945, -1123.30721322, -1119.4802518 ,\n",
       "         -1120.15980534, -1149.07556432, -1159.68711019, -1164.03360134,\n",
       "         -1160.72742914, -1161.65487035, -1143.61591738, -1147.95044663,\n",
       "         -1162.19515437, -1167.05672993, -1178.40641669, -1221.28756274,\n",
       "         -1221.38556114, -1233.26538447, -1242.44041729, -1255.42547871,\n",
       "         -1182.41280261, -1195.4737619 , -1210.64355359, -1215.40533975,\n",
       "         -1220.29340341, -1237.27538284, -1250.44018648, -1257.17360599,\n",
       "         -1263.28984673, -1268.16229874]),\n",
       "  'split1_train_score': array([-713.38931642, -586.84441665, -493.2961029 , -429.72629207,\n",
       "         -377.16480477, -506.3133486 , -380.42796752, -298.76948857,\n",
       "         -244.90785625, -202.02966195, -383.28406507, -257.74591352,\n",
       "         -182.36503258, -132.62001524,  -95.42776382, -298.28676137,\n",
       "         -186.86116128, -126.33035246,  -85.45247743,  -57.33309235,\n",
       "         -206.34843421, -113.72095189,  -66.92837604,  -42.91859417,\n",
       "          -27.68225353, -147.97561997,  -71.84407528,  -43.26322197,\n",
       "          -25.86668705,  -15.81080292]),\n",
       "  'split2_test_score': array([-1380.20413942, -1379.48027946, -1385.14638085, -1391.0483017 ,\n",
       "         -1395.71827628, -1390.56114168, -1399.83275506, -1405.76844919,\n",
       "         -1414.75696282, -1412.97211081, -1420.55512212, -1424.24844902,\n",
       "         -1433.98675709, -1443.66204287, -1443.62067882, -1443.99745235,\n",
       "         -1460.52557102, -1461.36441862, -1461.70505988, -1470.30392312,\n",
       "         -1437.12805711, -1451.38866036, -1464.69583893, -1475.76642268,\n",
       "         -1478.63115001, -1476.58245477, -1501.57912601, -1512.47817209,\n",
       "         -1521.41087181, -1526.48302747]),\n",
       "  'split2_train_score': array([-587.59791063, -497.91068812, -428.56940435, -376.22246144,\n",
       "         -339.46399145, -428.27661939, -327.85864188, -253.09828847,\n",
       "         -202.07247687, -158.18114162, -323.7774751 , -225.60271881,\n",
       "         -156.27802492, -113.66943404,  -85.99365337, -251.03497866,\n",
       "         -155.19279234, -103.37369445,  -68.79661364,  -47.4829263 ,\n",
       "         -183.15049344,  -95.49618788,  -55.59558562,  -34.94577785,\n",
       "          -20.61886412, -159.40585023,  -76.66258145,  -43.93796565,\n",
       "          -23.80743469,  -14.89770493]),\n",
       "  'std_fit_time': array([0.92031996, 0.02711898, 0.06567555, 0.16713323, 2.41061881,\n",
       "         1.63389322, 0.80267765, 0.11254385, 0.56400474, 0.5327297 ,\n",
       "         0.41365085, 0.37324727, 0.25112604, 0.38228575, 0.40838078,\n",
       "         0.25729026, 0.37096006, 0.94696555, 0.45713469, 0.4506986 ,\n",
       "         0.19441609, 0.61541544, 1.90137506, 1.29813171, 0.73019551,\n",
       "         0.13786642, 0.10437345, 0.04281338, 0.17745007, 2.07580516]),\n",
       "  'std_score_time': array([0.00092656, 0.00187579, 0.0017028 , 0.00121844, 0.00464726,\n",
       "         0.00261566, 0.00326604, 0.00050371, 0.00862133, 0.00447246,\n",
       "         0.00330715, 0.00200234, 0.0047655 , 0.00244725, 0.01117281,\n",
       "         0.00416615, 0.02881543, 0.00523544, 0.00124413, 0.00165785,\n",
       "         0.004325  , 0.01303413, 0.01631616, 0.00263546, 0.00215828,\n",
       "         0.00281317, 0.00332345, 0.00331072, 0.00637065, 0.00747812]),\n",
       "  'std_test_score': array([110.4949715 , 111.49466589, 113.68663338, 116.54277295,\n",
       "         118.07479709, 103.79978426, 103.8834582 , 103.79939074,\n",
       "         108.36678089, 107.02581075, 118.83253847, 116.54462126,\n",
       "         115.288461  , 117.5590772 , 113.15641304, 106.43387046,\n",
       "         109.17280979, 104.50124254, 100.63280549, 100.25573634,\n",
       "         105.25250998, 106.1527758 , 106.09055729, 108.81509458,\n",
       "         108.0971101 , 102.97138388, 109.23068571, 110.54735068,\n",
       "         111.56501192, 111.92592367]),\n",
       "  'std_train_score': array([51.96061329, 36.47202178, 26.4275791 , 23.11520199, 21.26357353,\n",
       "         34.70352809, 26.40652922, 23.40842463, 23.25133822, 22.59048047,\n",
       "         31.08423213, 23.24802233, 18.35111799, 15.61232571, 12.51914623,\n",
       "         26.12695114, 17.89362777, 15.13128408, 11.09095077,  7.58746886,\n",
       "         10.282112  ,  7.73911957,  5.91536751,  3.67383895,  3.01219028,\n",
       "         11.78812159,  6.74788807,  7.40021662,  5.74940797,  4.23460001])},\n",
       " -1223.7214452531123,\n",
       " {'learning_rate': 0.05, 'n_estimators': 150})"
      ]
     },
     "execution_count": 218,
     "metadata": {},
     "output_type": "execute_result"
    }
   ],
   "source": [
    "# 迭代次数与learning rate\n",
    "param_test1 = {'n_estimators': list(range(100,301,50)),'learning_rate': np.linspace(0.05,0.3,6)}\n",
    "gsearch1 = GridSearchCV(estimator = XGBRegressor(max_depth= 10, \n",
    "                                                learning_rate= 0.1, \n",
    "                                                n_estimators= 200,\n",
    "                                                objective='reg:squarederror',\n",
    "                                                n_jobs= -1, \n",
    "                                                gamma= 0.25, \n",
    "                                                reg_alpha= 0, \n",
    "                                                reg_lambda= 1,\n",
    "                                                min_child_weight = 50,\n",
    "                                                subsample = 1,\n",
    "                                                colsample_bytree = 1,\n",
    "                                                seed= 10),\n",
    "                        param_grid = param_test1, scoring='mean_squared_error',iid = False,n_jobs = -1,return_train_score = True)\n",
    "gsearch1.fit(x_train,y_train)\n",
    "gsearch1.cv_results_, gsearch1.best_score_, gsearch1.best_params_"
   ]
  },
  {
   "cell_type": "code",
   "execution_count": 47,
   "metadata": {
    "scrolled": true
   },
   "outputs": [
    {
     "data": {
      "text/plain": [
       "({'mean_fit_time': array([2.65976334, 3.54632481, 3.99065256, 4.5761598 , 5.5552973 ,\n",
       "         5.82199748]),\n",
       "  'mean_score_time': array([0.01265121, 0.01048215, 0.01498604, 0.01465933, 0.01538134,\n",
       "         0.01333229]),\n",
       "  'mean_test_score': array([-1162.24582516, -1165.24779493, -1174.20606946, -1180.3328297 ,\n",
       "         -1181.14113464, -1190.66412055]),\n",
       "  'mean_train_score': array([-664.03309847, -533.58473246, -424.66414707, -339.08331517,\n",
       "         -283.1282223 , -242.42005069]),\n",
       "  'param_max_depth': masked_array(data=[5, 6, 7, 8, 9, 10],\n",
       "               mask=[False, False, False, False, False, False],\n",
       "         fill_value='?',\n",
       "              dtype=object),\n",
       "  'params': [{'max_depth': 5},\n",
       "   {'max_depth': 6},\n",
       "   {'max_depth': 7},\n",
       "   {'max_depth': 8},\n",
       "   {'max_depth': 9},\n",
       "   {'max_depth': 10}],\n",
       "  'rank_test_score': array([1, 2, 3, 4, 5, 6]),\n",
       "  'split0_test_score': array([-1069.00372303, -1061.81039517, -1065.37438684, -1079.50146185,\n",
       "         -1076.13589937, -1101.67367414]),\n",
       "  'split0_train_score': array([-686.98200284, -545.9138842 , -438.57771406, -350.97879062,\n",
       "         -294.39653463, -258.60786348]),\n",
       "  'split1_test_score': array([-1051.67700943, -1043.67263649, -1050.72951372, -1046.82050373,\n",
       "         -1066.48939224, -1072.96518456]),\n",
       "  'split1_train_score': array([-710.64830504, -578.23960656, -458.38398074, -363.55605118,\n",
       "         -311.11034847, -256.88329565]),\n",
       "  'split2_test_score': array([-1366.05674302, -1390.26035313, -1406.51430782, -1414.67652354,\n",
       "         -1400.79811231, -1397.35350297]),\n",
       "  'split2_train_score': array([-594.46898752, -476.60070662, -377.03074641, -302.71510371,\n",
       "         -243.87778379, -211.76899293]),\n",
       "  'std_fit_time': array([0.1631265 , 0.05691819, 0.09583169, 0.11975468, 0.14919756,\n",
       "         0.62722532]),\n",
       "  'std_score_time': array([0.00092774, 0.00248211, 0.00425094, 0.00249434, 0.0024375 ,\n",
       "         0.00367408]),\n",
       "  'std_test_score': array([144.28957327, 159.28011611, 164.37549754, 166.24226576,\n",
       "         155.37085667, 146.62064417]),\n",
       "  'std_train_score': array([50.12915062, 42.39986228, 34.63887694, 26.22380565, 28.58071128,\n",
       "         21.68500311])},\n",
       " -1162.245825160615,\n",
       " {'max_depth': 5})"
      ]
     },
     "execution_count": 47,
     "metadata": {},
     "output_type": "execute_result"
    }
   ],
   "source": [
    "# max_depth\n",
    "param_test2 = {'max_depth': np.arange(5,11)}\n",
    "gsearch2 = GridSearchCV(estimator = XGBRegressor(max_depth= 10, \n",
    "                                                learning_rate= 0.05, \n",
    "                                                n_estimators= 100,\n",
    "                                                objective='reg:squarederror',\n",
    "                                                n_jobs= -1, \n",
    "                                                gamma= 0.0, \n",
    "                                                reg_alpha= 0, \n",
    "                                                reg_lambda= 1,\n",
    "                                                min_child_weight = 10,\n",
    "                                                subsample = 0.8,\n",
    "                                                colsample_bytree = 0.8,\n",
    "                                                seed= 10),\n",
    "                        param_grid = param_test2, scoring='mean_squared_error',iid = False, n_jobs = -1,return_train_score = True)\n",
    "gsearch2.fit(x_train,y_train)\n",
    "gsearch2.cv_results_, gsearch2.best_score_, gsearch2.best_params_"
   ]
  },
  {
   "cell_type": "code",
   "execution_count": 5,
   "metadata": {},
   "outputs": [
    {
     "data": {
      "text/plain": [
       "({'mean_fit_time': array([7.66863569, 7.35649721, 7.92744454, 6.81196292]),\n",
       "  'mean_score_time': array([0.01735918, 0.02466869, 0.02397641, 0.01716375]),\n",
       "  'mean_test_score': array([-1184.3240823 , -1215.67946733, -1309.6021636 , -1387.27914884]),\n",
       "  'mean_train_score': array([ -462.76901142,  -778.87397082,  -971.68426442, -1104.40529468]),\n",
       "  'param_min_child_weight': masked_array(data=[1, 51, 101, 151],\n",
       "               mask=[False, False, False, False],\n",
       "         fill_value='?',\n",
       "              dtype=object),\n",
       "  'params': [{'min_child_weight': 1},\n",
       "   {'min_child_weight': 51},\n",
       "   {'min_child_weight': 101},\n",
       "   {'min_child_weight': 151}],\n",
       "  'rank_test_score': array([1, 2, 3, 4]),\n",
       "  'split0_test_score': array([-1114.27302338, -1151.91344459, -1173.72125028, -1208.08625258]),\n",
       "  'split0_train_score': array([ -449.98824351,  -783.5668722 , -1002.27154887, -1150.99978274]),\n",
       "  'split1_test_score': array([-1090.56768374, -1123.82069951, -1272.19763887, -1388.39220696]),\n",
       "  'split1_train_score': array([ -505.43504367,  -832.63203443, -1004.56002125, -1125.60978957]),\n",
       "  'split2_test_score': array([-1348.1315398 , -1371.30425788, -1482.88760164, -1565.35898697]),\n",
       "  'split2_train_score': array([ -432.88374708,  -720.42300581,  -908.22122315, -1036.60631172]),\n",
       "  'std_fit_time': array([0.87009588, 0.43974286, 0.2086763 , 0.30996982]),\n",
       "  'std_score_time': array([0.00124804, 0.01026787, 0.00143946, 0.00551798]),\n",
       "  'std_test_score': array([116.23295038, 110.63937562, 128.95808636, 145.85810653]),\n",
       "  'std_train_score': array([30.96701127, 45.9291775 , 44.88487111, 49.04888382])},\n",
       " -1184.3240823039894,\n",
       " {'min_child_weight': 1})"
      ]
     },
     "execution_count": 5,
     "metadata": {},
     "output_type": "execute_result"
    }
   ],
   "source": [
    "param_test3 = {'min_child_weight': np.arange(1,201,50)}\n",
    "gsearch3 = GridSearchCV(estimator = XGBRegressor(max_depth= 5, \n",
    "                                                learning_rate= 0.05, \n",
    "                                                n_estimators= 150,\n",
    "                                                objective='reg:squarederror',\n",
    "                                                n_jobs= -1, \n",
    "                                                gamma= 0.25, \n",
    "                                                reg_alpha= 0, \n",
    "                                                reg_lambda= 1,\n",
    "                                                min_child_weight = 50,\n",
    "                                                subsample = 1,\n",
    "                                                colsample_bytree = 1,\n",
    "                                                seed= 10),\n",
    "                        param_grid = param_test3, scoring='mean_squared_error',iid = False, n_jobs = -1,return_train_score = True)\n",
    "gsearch3.fit(x_train,y_train)\n",
    "gsearch3.cv_results_, gsearch3.best_score_, gsearch3.best_params_"
   ]
  },
  {
   "cell_type": "code",
   "execution_count": 6,
   "metadata": {
    "scrolled": true
   },
   "outputs": [
    {
     "data": {
      "text/plain": [
       "({'mean_fit_time': array([3.56497065, 3.86163568, 4.71338439, 5.12751619, 5.50522383,\n",
       "         4.69948332, 4.68779429, 5.75604598, 5.20580792]),\n",
       "  'mean_score_time': array([0.01432403, 0.01766189, 0.01231559, 0.01932192, 0.01419536,\n",
       "         0.01198959, 0.01266177, 0.02533038, 0.01231949]),\n",
       "  'mean_test_score': array([-1177.84943969, -1166.40928215, -1181.22871125, -1172.63574852,\n",
       "         -1163.11081718, -1199.33906575, -1179.66409872, -1174.15712937,\n",
       "         -1200.71087218]),\n",
       "  'mean_train_score': array([-614.79042385, -562.16834965, -540.30136027, -617.34815181,\n",
       "         -567.49569237, -544.83658017, -615.64790954, -555.05801241,\n",
       "         -534.86998993]),\n",
       "  'param_colsample_bytree': masked_array(data=[0.6, 0.6, 0.6, 0.8, 0.8, 0.8, 1, 1, 1],\n",
       "               mask=[False, False, False, False, False, False, False, False,\n",
       "                     False],\n",
       "         fill_value='?',\n",
       "              dtype=object),\n",
       "  'param_subsample': masked_array(data=[0.6, 0.8, 1, 0.6, 0.8, 1, 0.6, 0.8, 1],\n",
       "               mask=[False, False, False, False, False, False, False, False,\n",
       "                     False],\n",
       "         fill_value='?',\n",
       "              dtype=object),\n",
       "  'params': [{'colsample_bytree': 0.6, 'subsample': 0.6},\n",
       "   {'colsample_bytree': 0.6, 'subsample': 0.8},\n",
       "   {'colsample_bytree': 0.6, 'subsample': 1},\n",
       "   {'colsample_bytree': 0.8, 'subsample': 0.6},\n",
       "   {'colsample_bytree': 0.8, 'subsample': 0.8},\n",
       "   {'colsample_bytree': 0.8, 'subsample': 1},\n",
       "   {'colsample_bytree': 1, 'subsample': 0.6},\n",
       "   {'colsample_bytree': 1, 'subsample': 0.8},\n",
       "   {'colsample_bytree': 1, 'subsample': 1}],\n",
       "  'rank_test_score': array([5, 2, 7, 3, 1, 8, 6, 4, 9]),\n",
       "  'split0_test_score': array([-1093.84090738, -1074.74757546, -1077.30127768, -1076.36386004,\n",
       "         -1075.61533742, -1101.86614898, -1083.41114036, -1059.90440144,\n",
       "         -1106.50256114]),\n",
       "  'split0_train_score': array([-620.06792051, -576.70410807, -548.69831062, -621.01284245,\n",
       "         -582.71581126, -541.70889734, -644.87435373, -569.240467  ,\n",
       "         -531.02632083]),\n",
       "  'split1_test_score': array([-1073.07329646, -1051.83937381, -1087.99997939, -1036.78165887,\n",
       "         -1042.66909812, -1094.02488787, -1048.18056848, -1048.38086684,\n",
       "         -1091.95627878]),\n",
       "  'split1_train_score': array([-667.33539512, -602.78605244, -576.73344488, -662.83855114,\n",
       "         -605.16871628, -600.09673718, -654.06256761, -594.5005599 ,\n",
       "         -577.63707431]),\n",
       "  'split2_test_score': array([-1366.63411523, -1372.64089717, -1378.38487667, -1404.76172665,\n",
       "         -1371.048016  , -1402.1261604 , -1407.40058732, -1414.18611984,\n",
       "         -1403.67377662]),\n",
       "  'split2_train_score': array([-556.96795593, -507.01488843, -495.4723253 , -568.19306185,\n",
       "         -514.60254956, -492.70410599, -548.00680727, -501.43301031,\n",
       "         -495.94657465]),\n",
       "  'std_fit_time': array([0.25978811, 0.23718587, 0.05830124, 0.20008192, 0.24487814,\n",
       "         0.15356998, 0.09184967, 0.4045519 , 0.95041026]),\n",
       "  'std_score_time': array([0.00235489, 0.00329524, 0.00122782, 0.00465784, 0.00063298,\n",
       "         0.0000153 , 0.00047126, 0.01673197, 0.0028683 ]),\n",
       "  'std_test_score': array([133.7598936 , 146.12735473, 139.47886513, 164.93137958,\n",
       "         147.64771736, 143.42785797, 161.67504338, 169.79131341,\n",
       "         143.63925651]),\n",
       "  'std_train_score': array([45.2115906 , 40.42684891, 33.70186909, 38.72565583, 38.50797885,\n",
       "         43.89860369, 47.97634734, 39.29587519, 33.4605716 ])},\n",
       " -1163.1108171760427,\n",
       " {'colsample_bytree': 0.8, 'subsample': 0.8})"
      ]
     },
     "execution_count": 6,
     "metadata": {},
     "output_type": "execute_result"
    }
   ],
   "source": [
    "#subsample & colsample_bytree\n",
    "param_test4 = {'subsample': [0.6,0.8,1], 'colsample_bytree': [0.6, 0.8, 1]}\n",
    "gsearch4 = GridSearchCV(estimator = XGBRegressor(max_depth= 5, \n",
    "                                                learning_rate= 0.05, \n",
    "                                                n_estimators= 150,\n",
    "                                                objective='reg:squarederror',\n",
    "                                                n_jobs= -1, \n",
    "                                                gamma= 0.25, \n",
    "                                                reg_alpha= 0, \n",
    "                                                reg_lambda= 1,\n",
    "                                                min_child_weight = 10,\n",
    "                                                subsample = 1,\n",
    "                                                colsample_bytree = 1,\n",
    "                                                seed= 10),\n",
    "                        param_grid = param_test4, scoring='mean_squared_error',iid = False, n_jobs = -1,return_train_score = True)\n",
    "gsearch4.fit(x_train,y_train)\n",
    "gsearch4.cv_results_, gsearch4.best_score_, gsearch4.best_params_"
   ]
  },
  {
   "cell_type": "markdown",
   "metadata": {},
   "source": [
    "## 最终微调"
   ]
  },
  {
   "cell_type": "code",
   "execution_count": 57,
   "metadata": {},
   "outputs": [
    {
     "name": "stdout",
     "output_type": "stream",
     "text": [
      "MSE(test) : 1598.1031\n",
      "MSE(train) : 730.8349\n"
     ]
    }
   ],
   "source": [
    "# 训练\n",
    "model_aqi = XGBRegressor(max_depth= 5, \n",
    "                        learning_rate= 0.05, \n",
    "                        n_estimators= 100,\n",
    "                        objective='reg:squarederror',\n",
    "                        n_jobs= -1, \n",
    "                        gamma= 0, \n",
    "                        reg_alpha= 0, \n",
    "                        reg_lambda= 1,\n",
    "                        min_child_weight = 10,\n",
    "                        subsample = 0.8,\n",
    "                        colsample_bytree = 0.8,\n",
    "                        seed= 10)\n",
    "model_aqi.fit(x_train,y_train)\n",
    "# 预测,测试集\n",
    "y_pred = model_aqi.predict(x_test)\n",
    "mse_train = metrics.mean_squared_error(y_test, y_pred)\n",
    "print (\"MSE(test) : %.4f\" %mse_train)\n",
    "# 预测,训练集\n",
    "y_pred = model_aqi.predict(x_train)\n",
    "mse_test = metrics.mean_squared_error(y_train, y_pred)\n",
    "print (\"MSE(train) : %.4f\" %mse_test)"
   ]
  },
  {
   "cell_type": "code",
   "execution_count": 58,
   "metadata": {},
   "outputs": [
    {
     "data": {
      "text/plain": [
       "array([0.22784656, 0.00862574, 0.01259335, 0.0091351 , 0.00722104,\n",
       "       0.01111629, 0.08416503, 0.01615545, 0.01185407, 0.00877317,\n",
       "       0.01194731, 0.00509383, 0.00624337, 0.01138278, 0.01003143,\n",
       "       0.00694098, 0.00909529, 0.00944163, 0.00946035, 0.00678152,\n",
       "       0.00921394, 0.01039706, 0.00729217, 0.01257825, 0.01967948,\n",
       "       0.01929213, 0.03032945, 0.02509041, 0.01307974, 0.00807416,\n",
       "       0.01800016, 0.02358926, 0.0134245 , 0.00698738, 0.0078185 ,\n",
       "       0.01449894, 0.00823755, 0.00352965, 0.03989497, 0.11117991,\n",
       "       0.1139081 ], dtype=float32)"
      ]
     },
     "execution_count": 58,
     "metadata": {},
     "output_type": "execute_result"
    }
   ],
   "source": [
    "model_aqi.feature_importances_"
   ]
  },
  {
   "cell_type": "code",
   "execution_count": null,
   "metadata": {},
   "outputs": [],
   "source": []
  },
  {
   "cell_type": "code",
   "execution_count": null,
   "metadata": {},
   "outputs": [],
   "source": []
  },
  {
   "cell_type": "code",
   "execution_count": null,
   "metadata": {},
   "outputs": [],
   "source": []
  },
  {
   "cell_type": "code",
   "execution_count": null,
   "metadata": {},
   "outputs": [],
   "source": []
  },
  {
   "cell_type": "code",
   "execution_count": null,
   "metadata": {},
   "outputs": [],
   "source": []
  }
 ],
 "metadata": {
  "kernelspec": {
   "display_name": "Python 3",
   "language": "python",
   "name": "python3"
  },
  "language_info": {
   "codemirror_mode": {
    "name": "ipython",
    "version": 3
   },
   "file_extension": ".py",
   "mimetype": "text/x-python",
   "name": "python",
   "nbconvert_exporter": "python",
   "pygments_lexer": "ipython3",
   "version": "3.6.4"
  },
  "varInspector": {
   "cols": {
    "lenName": 16,
    "lenType": 16,
    "lenVar": 40
   },
   "kernels_config": {
    "python": {
     "delete_cmd_postfix": "",
     "delete_cmd_prefix": "del ",
     "library": "var_list.py",
     "varRefreshCmd": "print(var_dic_list())"
    },
    "r": {
     "delete_cmd_postfix": ") ",
     "delete_cmd_prefix": "rm(",
     "library": "var_list.r",
     "varRefreshCmd": "cat(var_dic_list()) "
    }
   },
   "types_to_exclude": [
    "module",
    "function",
    "builtin_function_or_method",
    "instance",
    "_Feature"
   ],
   "window_display": false
  }
 },
 "nbformat": 4,
 "nbformat_minor": 2
}
